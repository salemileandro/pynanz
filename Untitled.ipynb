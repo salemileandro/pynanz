{
 "cells": [
  {
   "cell_type": "code",
   "execution_count": 64,
   "id": "gothic-boulder",
   "metadata": {},
   "outputs": [],
   "source": [
    "import yfinance as yf\n",
    "import pandas as pd\n",
    "import matplotlib.pyplot as plt\n",
    "import sys\n",
    "import sqlite3\n",
    "import numpy as np\n",
    "from sqlalchemy import create_engine\n",
    "%config Completer.use_jedi = False"
   ]
  },
  {
   "cell_type": "code",
   "execution_count": 81,
   "id": "electronic-butter",
   "metadata": {},
   "outputs": [
    {
     "name": "stdout",
     "output_type": "stream",
     "text": [
      "[*********************100%***********************]  1 of 1 completed\n"
     ]
    },
    {
     "data": {
      "text/html": [
       "<div>\n",
       "<style scoped>\n",
       "    .dataframe tbody tr th:only-of-type {\n",
       "        vertical-align: middle;\n",
       "    }\n",
       "\n",
       "    .dataframe tbody tr th {\n",
       "        vertical-align: top;\n",
       "    }\n",
       "\n",
       "    .dataframe thead th {\n",
       "        text-align: right;\n",
       "    }\n",
       "</style>\n",
       "<table border=\"1\" class=\"dataframe\">\n",
       "  <thead>\n",
       "    <tr style=\"text-align: right;\">\n",
       "      <th></th>\n",
       "      <th>Open</th>\n",
       "      <th>High</th>\n",
       "      <th>Low</th>\n",
       "      <th>Close</th>\n",
       "      <th>Adj Close</th>\n",
       "      <th>Volume</th>\n",
       "    </tr>\n",
       "    <tr>\n",
       "      <th>Datetime</th>\n",
       "      <th></th>\n",
       "      <th></th>\n",
       "      <th></th>\n",
       "      <th></th>\n",
       "      <th></th>\n",
       "      <th></th>\n",
       "    </tr>\n",
       "  </thead>\n",
       "  <tbody>\n",
       "    <tr>\n",
       "      <th>2021-10-19 09:30:00-04:00</th>\n",
       "      <td>146.839996</td>\n",
       "      <td>146.888702</td>\n",
       "      <td>146.830002</td>\n",
       "      <td>146.880005</td>\n",
       "      <td>146.880005</td>\n",
       "      <td>2609369</td>\n",
       "    </tr>\n",
       "    <tr>\n",
       "      <th>2021-10-19 09:31:00-04:00</th>\n",
       "      <td>146.880005</td>\n",
       "      <td>147.080002</td>\n",
       "      <td>146.824997</td>\n",
       "      <td>147.050003</td>\n",
       "      <td>147.050003</td>\n",
       "      <td>607272</td>\n",
       "    </tr>\n",
       "    <tr>\n",
       "      <th>2021-10-19 09:32:00-04:00</th>\n",
       "      <td>147.050003</td>\n",
       "      <td>147.389999</td>\n",
       "      <td>147.039993</td>\n",
       "      <td>147.360001</td>\n",
       "      <td>147.360001</td>\n",
       "      <td>632920</td>\n",
       "    </tr>\n",
       "    <tr>\n",
       "      <th>2021-10-19 09:33:00-04:00</th>\n",
       "      <td>147.360001</td>\n",
       "      <td>147.384995</td>\n",
       "      <td>147.240005</td>\n",
       "      <td>147.270203</td>\n",
       "      <td>147.270203</td>\n",
       "      <td>478740</td>\n",
       "    </tr>\n",
       "    <tr>\n",
       "      <th>2021-10-19 09:34:00-04:00</th>\n",
       "      <td>147.270004</td>\n",
       "      <td>147.342804</td>\n",
       "      <td>147.060104</td>\n",
       "      <td>147.199997</td>\n",
       "      <td>147.199997</td>\n",
       "      <td>486148</td>\n",
       "    </tr>\n",
       "    <tr>\n",
       "      <th>...</th>\n",
       "      <td>...</td>\n",
       "      <td>...</td>\n",
       "      <td>...</td>\n",
       "      <td>...</td>\n",
       "      <td>...</td>\n",
       "      <td>...</td>\n",
       "    </tr>\n",
       "    <tr>\n",
       "      <th>2021-10-25 15:45:00-04:00</th>\n",
       "      <td>148.539993</td>\n",
       "      <td>148.580002</td>\n",
       "      <td>148.524994</td>\n",
       "      <td>148.572800</td>\n",
       "      <td>148.572800</td>\n",
       "      <td>82444</td>\n",
       "    </tr>\n",
       "    <tr>\n",
       "      <th>2021-10-25 15:46:00-04:00</th>\n",
       "      <td>148.574997</td>\n",
       "      <td>148.585007</td>\n",
       "      <td>148.509995</td>\n",
       "      <td>148.533798</td>\n",
       "      <td>148.533798</td>\n",
       "      <td>73992</td>\n",
       "    </tr>\n",
       "    <tr>\n",
       "      <th>2021-10-25 15:47:00-04:00</th>\n",
       "      <td>148.530106</td>\n",
       "      <td>148.550003</td>\n",
       "      <td>148.440002</td>\n",
       "      <td>148.455002</td>\n",
       "      <td>148.455002</td>\n",
       "      <td>158266</td>\n",
       "    </tr>\n",
       "    <tr>\n",
       "      <th>2021-10-25 15:48:00-04:00</th>\n",
       "      <td>148.455002</td>\n",
       "      <td>148.539993</td>\n",
       "      <td>148.449997</td>\n",
       "      <td>148.539993</td>\n",
       "      <td>148.539993</td>\n",
       "      <td>93007</td>\n",
       "    </tr>\n",
       "    <tr>\n",
       "      <th>2021-10-25 15:49:00-04:00</th>\n",
       "      <td>148.539993</td>\n",
       "      <td>148.544998</td>\n",
       "      <td>148.500000</td>\n",
       "      <td>148.514999</td>\n",
       "      <td>148.514999</td>\n",
       "      <td>113822</td>\n",
       "    </tr>\n",
       "  </tbody>\n",
       "</table>\n",
       "<p>1940 rows × 6 columns</p>\n",
       "</div>"
      ],
      "text/plain": [
       "                                 Open        High         Low       Close  \\\n",
       "Datetime                                                                    \n",
       "2021-10-19 09:30:00-04:00  146.839996  146.888702  146.830002  146.880005   \n",
       "2021-10-19 09:31:00-04:00  146.880005  147.080002  146.824997  147.050003   \n",
       "2021-10-19 09:32:00-04:00  147.050003  147.389999  147.039993  147.360001   \n",
       "2021-10-19 09:33:00-04:00  147.360001  147.384995  147.240005  147.270203   \n",
       "2021-10-19 09:34:00-04:00  147.270004  147.342804  147.060104  147.199997   \n",
       "...                               ...         ...         ...         ...   \n",
       "2021-10-25 15:45:00-04:00  148.539993  148.580002  148.524994  148.572800   \n",
       "2021-10-25 15:46:00-04:00  148.574997  148.585007  148.509995  148.533798   \n",
       "2021-10-25 15:47:00-04:00  148.530106  148.550003  148.440002  148.455002   \n",
       "2021-10-25 15:48:00-04:00  148.455002  148.539993  148.449997  148.539993   \n",
       "2021-10-25 15:49:00-04:00  148.539993  148.544998  148.500000  148.514999   \n",
       "\n",
       "                            Adj Close   Volume  \n",
       "Datetime                                        \n",
       "2021-10-19 09:30:00-04:00  146.880005  2609369  \n",
       "2021-10-19 09:31:00-04:00  147.050003   607272  \n",
       "2021-10-19 09:32:00-04:00  147.360001   632920  \n",
       "2021-10-19 09:33:00-04:00  147.270203   478740  \n",
       "2021-10-19 09:34:00-04:00  147.199997   486148  \n",
       "...                               ...      ...  \n",
       "2021-10-25 15:45:00-04:00  148.572800    82444  \n",
       "2021-10-25 15:46:00-04:00  148.533798    73992  \n",
       "2021-10-25 15:47:00-04:00  148.455002   158266  \n",
       "2021-10-25 15:48:00-04:00  148.539993    93007  \n",
       "2021-10-25 15:49:00-04:00  148.514999   113822  \n",
       "\n",
       "[1940 rows x 6 columns]"
      ]
     },
     "execution_count": 81,
     "metadata": {},
     "output_type": "execute_result"
    }
   ],
   "source": [
    "end = pd.Timestamp.today().floor(\"D\")\n",
    "start = end - pd.Timedelta(days=7)\n",
    "data = yf.download(tickers=\"AAPL\", start=start, end=end, interval=\"1m\")\n",
    "\n",
    "data.head(-10)"
   ]
  },
  {
   "cell_type": "code",
   "execution_count": 89,
   "id": "engaged-plane",
   "metadata": {},
   "outputs": [
    {
     "name": "stdout",
     "output_type": "stream",
     "text": [
      "18.064379740849212\n",
      "16.285655842268397\n",
      "7.167200314142819\n",
      "17.890876234950113\n",
      "14.883710999646459\n"
     ]
    },
    {
     "data": {
      "image/png": "[encoded data removed]",
      "text/plain": [
       "<Figure size 432x432 with 1 Axes>"
      ]
     },
     "metadata": {
      "needs_background": "light"
     },
     "output_type": "display_data"
    },
    {
     "data": {
      "image/png": "[encoded data removed]",
      "text/plain": [
       "<Figure size 432x432 with 1 Axes>"
      ]
     },
     "metadata": {
      "needs_background": "light"
     },
     "output_type": "display_data"
    },
    {
     "data": {
      "image/png": "[encoded data removed]",
      "text/plain": [
       "<Figure size 432x432 with 1 Axes>"
      ]
     },
     "metadata": {
      "needs_background": "light"
     },
     "output_type": "display_data"
    },
    {
     "data": {
      "image/png": "[encoded data removed]",
      "text/plain": [
       "<Figure size 432x432 with 1 Axes>"
      ]
     },
     "metadata": {
      "needs_background": "light"
     },
     "output_type": "display_data"
    },
    {
     "data": {
      "image/png": "[encoded data removed]",
      "text/plain": [
       "<Figure size 432x432 with 1 Axes>"
      ]
     },
     "metadata": {
      "needs_background": "light"
     },
     "output_type": "display_data"
    }
   ],
   "source": [
    "dayofweek = {0: \"Monday\", 1: \"Tuesday\", 2: \"Wednesday\", 3: \"Thursday\", 4: \"Friday\"}\n",
    "\n",
    "\n",
    "for i in np.unique(data.index.day):\n",
    "    x = data[data.index.day == i]\n",
    "    label = x.index.map(lambda j: j.hour + j.minute / 60.0)\n",
    "    plt.figure(figsize=(6, 6))\n",
    "    plt.title(dayofweek[x.index.day_of_week[0]] + \" \" + str (x.index[0].floor(\"D\").date()))\n",
    "    \n",
    "    d = np.array(x[\"Volume\"] / x[\"Volume\"].max())\n",
    "    d = np.cumsum(d)\n",
    "    print(np.quantile(d, q = 0.5))\n",
    "    plt.plot(label, d)"
   ]
  },
  {
   "cell_type": "code",
   "execution_count": 27,
   "id": "narrow-brain",
   "metadata": {},
   "outputs": [],
   "source": [
    "engine = create_engine('sqlite:////home/salemi/test.db', echo=False)\n",
    "with engine.begin() as connection:\n",
    "    data.to_sql('AAPL', con=connection, if_exists='replace', index_label=\"DateTime\")\n",
    "    pass"
   ]
  },
  {
   "cell_type": "code",
   "execution_count": 35,
   "id": "weighted-wrist",
   "metadata": {},
   "outputs": [
    {
     "data": {
      "text/html": [
       "<div>\n",
       "<style scoped>\n",
       "    .dataframe tbody tr th:only-of-type {\n",
       "        vertical-align: middle;\n",
       "    }\n",
       "\n",
       "    .dataframe tbody tr th {\n",
       "        vertical-align: top;\n",
       "    }\n",
       "\n",
       "    .dataframe thead th {\n",
       "        text-align: right;\n",
       "    }\n",
       "</style>\n",
       "<table border=\"1\" class=\"dataframe\">\n",
       "  <thead>\n",
       "    <tr style=\"text-align: right;\">\n",
       "      <th></th>\n",
       "      <th>DateTime</th>\n",
       "      <th>Open</th>\n",
       "      <th>High</th>\n",
       "      <th>Low</th>\n",
       "      <th>Close</th>\n",
       "      <th>Adj Close</th>\n",
       "      <th>Volume</th>\n",
       "    </tr>\n",
       "  </thead>\n",
       "  <tbody>\n",
       "    <tr>\n",
       "      <th>0</th>\n",
       "      <td>2020-12-30</td>\n",
       "      <td>135.580002</td>\n",
       "      <td>135.990005</td>\n",
       "      <td>133.399994</td>\n",
       "      <td>133.720001</td>\n",
       "      <td>133.094650</td>\n",
       "      <td>96452100</td>\n",
       "    </tr>\n",
       "    <tr>\n",
       "      <th>1</th>\n",
       "      <td>2020-12-31</td>\n",
       "      <td>134.080002</td>\n",
       "      <td>134.740005</td>\n",
       "      <td>131.720001</td>\n",
       "      <td>132.690002</td>\n",
       "      <td>132.069473</td>\n",
       "      <td>99116600</td>\n",
       "    </tr>\n",
       "    <tr>\n",
       "      <th>2</th>\n",
       "      <td>2021-01-04</td>\n",
       "      <td>133.520004</td>\n",
       "      <td>133.610001</td>\n",
       "      <td>126.760002</td>\n",
       "      <td>129.410004</td>\n",
       "      <td>128.804825</td>\n",
       "      <td>143301900</td>\n",
       "    </tr>\n",
       "    <tr>\n",
       "      <th>3</th>\n",
       "      <td>2021-01-05</td>\n",
       "      <td>128.889999</td>\n",
       "      <td>131.740005</td>\n",
       "      <td>128.429993</td>\n",
       "      <td>131.009995</td>\n",
       "      <td>130.397324</td>\n",
       "      <td>97664900</td>\n",
       "    </tr>\n",
       "    <tr>\n",
       "      <th>4</th>\n",
       "      <td>2021-01-06</td>\n",
       "      <td>127.720001</td>\n",
       "      <td>131.050003</td>\n",
       "      <td>126.379997</td>\n",
       "      <td>126.599998</td>\n",
       "      <td>126.007957</td>\n",
       "      <td>155088000</td>\n",
       "    </tr>\n",
       "  </tbody>\n",
       "</table>\n",
       "</div>"
      ],
      "text/plain": [
       "    DateTime        Open        High         Low       Close   Adj Close  \\\n",
       "0 2020-12-30  135.580002  135.990005  133.399994  133.720001  133.094650   \n",
       "1 2020-12-31  134.080002  134.740005  131.720001  132.690002  132.069473   \n",
       "2 2021-01-04  133.520004  133.610001  126.760002  129.410004  128.804825   \n",
       "3 2021-01-05  128.889999  131.740005  128.429993  131.009995  130.397324   \n",
       "4 2021-01-06  127.720001  131.050003  126.379997  126.599998  126.007957   \n",
       "\n",
       "      Volume  \n",
       "0   96452100  \n",
       "1   99116600  \n",
       "2  143301900  \n",
       "3   97664900  \n",
       "4  155088000  "
      ]
     },
     "execution_count": 35,
     "metadata": {},
     "output_type": "execute_result"
    }
   ],
   "source": [
    "with engine.connect() as connection:\n",
    "    df = pd.read_sql_table(\"AAPL\", connection, parse_dates=\"DateTime\")\n",
    "\n",
    "df.head()"
   ]
  },
  {
   "cell_type": "code",
   "execution_count": 36,
   "id": "subjective-updating",
   "metadata": {},
   "outputs": [
    {
     "ename": "AttributeError",
     "evalue": "'RangeIndex' object has no attribute 'day_of_week'",
     "output_type": "error",
     "traceback": [
      "\u001b[0;31m---------------------------------------------------------------------------\u001b[0m",
      "\u001b[0;31mAttributeError\u001b[0m                            Traceback (most recent call last)",
      "\u001b[0;32m<ipython-input-36-903fa436d237>\u001b[0m in \u001b[0;36m<module>\u001b[0;34m\u001b[0m\n\u001b[1;32m      1\u001b[0m \u001b[0mmapper\u001b[0m \u001b[0;34m=\u001b[0m \u001b[0;34m{\u001b[0m\u001b[0;36m0\u001b[0m\u001b[0;34m:\u001b[0m \u001b[0;34m\"Monday\"\u001b[0m\u001b[0;34m,\u001b[0m \u001b[0;36m1\u001b[0m\u001b[0;34m:\u001b[0m \u001b[0;34m\"Tuesday\"\u001b[0m\u001b[0;34m,\u001b[0m \u001b[0;36m2\u001b[0m\u001b[0;34m:\u001b[0m \u001b[0;34m\"Wednesday\"\u001b[0m\u001b[0;34m,\u001b[0m \u001b[0;36m3\u001b[0m\u001b[0;34m:\u001b[0m \u001b[0;34m\"Thursday\"\u001b[0m\u001b[0;34m,\u001b[0m \u001b[0;36m4\u001b[0m\u001b[0;34m:\u001b[0m \u001b[0;34m\"Friday\"\u001b[0m\u001b[0;34m}\u001b[0m\u001b[0;34m\u001b[0m\u001b[0;34m\u001b[0m\u001b[0m\n\u001b[0;32m----> 2\u001b[0;31m \u001b[0mdf\u001b[0m\u001b[0;34m.\u001b[0m\u001b[0mindex\u001b[0m\u001b[0;34m.\u001b[0m\u001b[0mday_of_week\u001b[0m\u001b[0;34m.\u001b[0m\u001b[0mmap\u001b[0m\u001b[0;34m(\u001b[0m\u001b[0mmapper\u001b[0m\u001b[0;34m)\u001b[0m\u001b[0;34m\u001b[0m\u001b[0;34m\u001b[0m\u001b[0m\n\u001b[0m",
      "\u001b[0;31mAttributeError\u001b[0m: 'RangeIndex' object has no attribute 'day_of_week'"
     ]
    }
   ],
   "source": [
    "mapper = {0: \"Monday\", 1: \"Tuesday\", 2: \"Wednesday\", 3: \"Thursday\", 4: \"Friday\"}\n",
    "df.index.day_of_week.map(mapper)"
   ]
  },
  {
   "cell_type": "code",
   "execution_count": 59,
   "id": "forbidden-tonight",
   "metadata": {
    "scrolled": false
   },
   "outputs": [
    {
     "name": "stdout",
     "output_type": "stream",
     "text": [
      "1900-09-01 00:00:00\n",
      "[*********************100%***********************]  1 of 1 completed\n",
      "2021-09-29 00:00:00\n",
      "<class 'pandas.core.frame.DataFrame'>\n"
     ]
    },
    {
     "data": {
      "text/html": [
       "<div>\n",
       "<style scoped>\n",
       "    .dataframe tbody tr th:only-of-type {\n",
       "        vertical-align: middle;\n",
       "    }\n",
       "\n",
       "    .dataframe tbody tr th {\n",
       "        vertical-align: top;\n",
       "    }\n",
       "\n",
       "    .dataframe thead tr th {\n",
       "        text-align: left;\n",
       "    }\n",
       "\n",
       "    .dataframe thead tr:last-of-type th {\n",
       "        text-align: right;\n",
       "    }\n",
       "</style>\n",
       "<table border=\"1\" class=\"dataframe\">\n",
       "  <thead>\n",
       "    <tr>\n",
       "      <th></th>\n",
       "      <th colspan=\"6\" halign=\"left\">AAPL</th>\n",
       "    </tr>\n",
       "    <tr>\n",
       "      <th></th>\n",
       "      <th>Open</th>\n",
       "      <th>High</th>\n",
       "      <th>Low</th>\n",
       "      <th>Close</th>\n",
       "      <th>Adj Close</th>\n",
       "      <th>Volume</th>\n",
       "    </tr>\n",
       "    <tr>\n",
       "      <th>Date</th>\n",
       "      <th></th>\n",
       "      <th></th>\n",
       "      <th></th>\n",
       "      <th></th>\n",
       "      <th></th>\n",
       "      <th></th>\n",
       "    </tr>\n",
       "  </thead>\n",
       "  <tbody>\n",
       "    <tr>\n",
       "      <th>1980-12-12</th>\n",
       "      <td>0.128348</td>\n",
       "      <td>0.128906</td>\n",
       "      <td>0.128348</td>\n",
       "      <td>0.128348</td>\n",
       "      <td>0.100600</td>\n",
       "      <td>469033600</td>\n",
       "    </tr>\n",
       "    <tr>\n",
       "      <th>1980-12-15</th>\n",
       "      <td>0.122210</td>\n",
       "      <td>0.122210</td>\n",
       "      <td>0.121652</td>\n",
       "      <td>0.121652</td>\n",
       "      <td>0.095352</td>\n",
       "      <td>175884800</td>\n",
       "    </tr>\n",
       "    <tr>\n",
       "      <th>1980-12-16</th>\n",
       "      <td>0.113281</td>\n",
       "      <td>0.113281</td>\n",
       "      <td>0.112723</td>\n",
       "      <td>0.112723</td>\n",
       "      <td>0.088353</td>\n",
       "      <td>105728000</td>\n",
       "    </tr>\n",
       "    <tr>\n",
       "      <th>1980-12-17</th>\n",
       "      <td>0.115513</td>\n",
       "      <td>0.116071</td>\n",
       "      <td>0.115513</td>\n",
       "      <td>0.115513</td>\n",
       "      <td>0.090540</td>\n",
       "      <td>86441600</td>\n",
       "    </tr>\n",
       "    <tr>\n",
       "      <th>1980-12-18</th>\n",
       "      <td>0.118862</td>\n",
       "      <td>0.119420</td>\n",
       "      <td>0.118862</td>\n",
       "      <td>0.118862</td>\n",
       "      <td>0.093165</td>\n",
       "      <td>73449600</td>\n",
       "    </tr>\n",
       "    <tr>\n",
       "      <th>...</th>\n",
       "      <td>...</td>\n",
       "      <td>...</td>\n",
       "      <td>...</td>\n",
       "      <td>...</td>\n",
       "      <td>...</td>\n",
       "      <td>...</td>\n",
       "    </tr>\n",
       "    <tr>\n",
       "      <th>2021-09-23</th>\n",
       "      <td>146.649994</td>\n",
       "      <td>147.080002</td>\n",
       "      <td>145.639999</td>\n",
       "      <td>146.830002</td>\n",
       "      <td>146.830002</td>\n",
       "      <td>64838200</td>\n",
       "    </tr>\n",
       "    <tr>\n",
       "      <th>2021-09-24</th>\n",
       "      <td>145.660004</td>\n",
       "      <td>147.470001</td>\n",
       "      <td>145.559998</td>\n",
       "      <td>146.919998</td>\n",
       "      <td>146.919998</td>\n",
       "      <td>53477900</td>\n",
       "    </tr>\n",
       "    <tr>\n",
       "      <th>2021-09-27</th>\n",
       "      <td>145.470001</td>\n",
       "      <td>145.960007</td>\n",
       "      <td>143.820007</td>\n",
       "      <td>145.369995</td>\n",
       "      <td>145.369995</td>\n",
       "      <td>74150700</td>\n",
       "    </tr>\n",
       "    <tr>\n",
       "      <th>2021-09-28</th>\n",
       "      <td>143.250000</td>\n",
       "      <td>144.750000</td>\n",
       "      <td>141.690002</td>\n",
       "      <td>141.910004</td>\n",
       "      <td>141.910004</td>\n",
       "      <td>108972300</td>\n",
       "    </tr>\n",
       "    <tr>\n",
       "      <th>2021-09-29</th>\n",
       "      <td>142.470001</td>\n",
       "      <td>144.449997</td>\n",
       "      <td>142.029999</td>\n",
       "      <td>142.830002</td>\n",
       "      <td>142.830002</td>\n",
       "      <td>74602000</td>\n",
       "    </tr>\n",
       "  </tbody>\n",
       "</table>\n",
       "<p>10287 rows × 6 columns</p>\n",
       "</div>"
      ],
      "text/plain": [
       "                  AAPL                                                  \\\n",
       "                  Open        High         Low       Close   Adj Close   \n",
       "Date                                                                     \n",
       "1980-12-12    0.128348    0.128906    0.128348    0.128348    0.100600   \n",
       "1980-12-15    0.122210    0.122210    0.121652    0.121652    0.095352   \n",
       "1980-12-16    0.113281    0.113281    0.112723    0.112723    0.088353   \n",
       "1980-12-17    0.115513    0.116071    0.115513    0.115513    0.090540   \n",
       "1980-12-18    0.118862    0.119420    0.118862    0.118862    0.093165   \n",
       "...                ...         ...         ...         ...         ...   \n",
       "2021-09-23  146.649994  147.080002  145.639999  146.830002  146.830002   \n",
       "2021-09-24  145.660004  147.470001  145.559998  146.919998  146.919998   \n",
       "2021-09-27  145.470001  145.960007  143.820007  145.369995  145.369995   \n",
       "2021-09-28  143.250000  144.750000  141.690002  141.910004  141.910004   \n",
       "2021-09-29  142.470001  144.449997  142.029999  142.830002  142.830002   \n",
       "\n",
       "                       \n",
       "               Volume  \n",
       "Date                   \n",
       "1980-12-12  469033600  \n",
       "1980-12-15  175884800  \n",
       "1980-12-16  105728000  \n",
       "1980-12-17   86441600  \n",
       "1980-12-18   73449600  \n",
       "...               ...  \n",
       "2021-09-23   64838200  \n",
       "2021-09-24   53477900  \n",
       "2021-09-27   74150700  \n",
       "2021-09-28  108972300  \n",
       "2021-09-29   74602000  \n",
       "\n",
       "[10287 rows x 6 columns]"
      ]
     },
     "execution_count": 59,
     "metadata": {},
     "output_type": "execute_result"
    }
   ],
   "source": [
    "start = pd.Timestamp(year=1900, month=9, day=1)\n",
    "end = pd.Timestamp(year=2021, month=9, day=30)\n",
    "print(start)\n",
    "print(data.index[-1])\n",
    "data.columns = pd.MultiIndex.from_product([[\"AAPL\"], data.columns])\n",
    "\n",
    "print(type(data))\n",
    "\n",
    "\n",
    "data"
   ]
  },
  {
   "cell_type": "code",
   "execution_count": 71,
   "id": "handled-health",
   "metadata": {},
   "outputs": [
    {
     "data": {
      "text/plain": [
       "[<matplotlib.lines.Line2D at 0x146096c9c070>]"
      ]
     },
     "execution_count": 71,
     "metadata": {},
     "output_type": "execute_result"
    },
    {
     "data": {
      "image/png": "[encoded data removed]",
      "text/plain": [
       "<Figure size 432x288 with 1 Axes>"
      ]
     },
     "metadata": {
      "needs_background": "light"
     },
     "output_type": "display_data"
    }
   ],
   "source": [
    "data = data[data.index.year > 2019]\n",
    "plt.plot(data[(\"AAPL\", \"Close\")])\n",
    "plt.plot(data[(\"AAPL\", \"Adj Close\")])"
   ]
  },
  {
   "cell_type": "code",
   "execution_count": 12,
   "id": "daily-branch",
   "metadata": {},
   "outputs": [
    {
     "name": "stdout",
     "output_type": "stream",
     "text": [
      "<__main__.Foo object at 0x14609cd84d30>\n"
     ]
    }
   ],
   "source": [
    "class Meta(type):\n",
    "    @staticmethod \n",
    "    def __call__():\n",
    "        return '__call__'\n",
    "\n",
    "\n",
    "class Foo(object):\n",
    "    __metaclass__ = Meta\n",
    "\n",
    "    @staticmethod\n",
    "    def bar():\n",
    "        return 'bar'\n",
    "\n",
    "print(Foo())\n",
    "#__call__\n"
   ]
  },
  {
   "cell_type": "code",
   "execution_count": null,
   "id": "satisfied-female",
   "metadata": {},
   "outputs": [],
   "source": []
  }
 ],
 "metadata": {
  "kernelspec": {
   "display_name": "Python 3",
   "language": "python",
   "name": "python3"
  },
  "language_info": {
   "codemirror_mode": {
    "name": "ipython",
    "version": 3
   },
   "file_extension": ".py",
   "mimetype": "text/x-python",
   "name": "python",
   "nbconvert_exporter": "python",
   "pygments_lexer": "ipython3",
   "version": "3.8.0"
  }
 },
 "nbformat": 4,
 "nbformat_minor": 5
}
