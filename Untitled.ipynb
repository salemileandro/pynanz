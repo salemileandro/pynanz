{
 "cells": [
  {
   "cell_type": "code",
   "execution_count": 77,
   "id": "gothic-boulder",
   "metadata": {},
   "outputs": [],
   "source": [
    "import yfinance as yf\n",
    "import pandas as pd\n",
    "import matplotlib.pyplot as plt\n",
    "import sys\n",
    "\n",
    "sys.st"
   ]
  },
  {
   "cell_type": "code",
   "execution_count": 99,
   "id": "electronic-butter",
   "metadata": {},
   "outputs": [
    {
     "data": {
      "text/plain": [
       "'1987-06-16'"
      ]
     },
     "execution_count": 99,
     "metadata": {},
     "output_type": "execute_result"
    }
   ],
   "source": [
    "t = yf.Ticker(\"AAPL\")\n",
    "\n",
    "str(t.get_splits().index[0].date())\n"
   ]
  },
  {
   "cell_type": "code",
   "execution_count": 102,
   "id": "narrow-brain",
   "metadata": {},
   "outputs": [
    {
     "data": {
      "text/plain": [
       "numpy.float64"
      ]
     },
     "execution_count": 102,
     "metadata": {},
     "output_type": "execute_result"
    }
   ],
   "source": [
    "type(t.splits[-1])"
   ]
  },
  {
   "cell_type": "code",
   "execution_count": 95,
   "id": "subjective-updating",
   "metadata": {},
   "outputs": [
    {
     "data": {
      "text/plain": [
       "Timestamp('1998-06-02 00:00:00')"
      ]
     },
     "execution_count": 95,
     "metadata": {},
     "output_type": "execute_result"
    }
   ],
   "source": [
    "pd.Timestamp('1998-06-02')"
   ]
  },
  {
   "cell_type": "code",
   "execution_count": 59,
   "id": "forbidden-tonight",
   "metadata": {
    "scrolled": false
   },
   "outputs": [
    {
     "name": "stdout",
     "output_type": "stream",
     "text": [
      "1900-09-01 00:00:00\n",
      "[*********************100%***********************]  1 of 1 completed\n",
      "2021-09-29 00:00:00\n",
      "<class 'pandas.core.frame.DataFrame'>\n"
     ]
    },
    {
     "data": {
      "text/html": [
       "<div>\n",
       "<style scoped>\n",
       "    .dataframe tbody tr th:only-of-type {\n",
       "        vertical-align: middle;\n",
       "    }\n",
       "\n",
       "    .dataframe tbody tr th {\n",
       "        vertical-align: top;\n",
       "    }\n",
       "\n",
       "    .dataframe thead tr th {\n",
       "        text-align: left;\n",
       "    }\n",
       "\n",
       "    .dataframe thead tr:last-of-type th {\n",
       "        text-align: right;\n",
       "    }\n",
       "</style>\n",
       "<table border=\"1\" class=\"dataframe\">\n",
       "  <thead>\n",
       "    <tr>\n",
       "      <th></th>\n",
       "      <th colspan=\"6\" halign=\"left\">AAPL</th>\n",
       "    </tr>\n",
       "    <tr>\n",
       "      <th></th>\n",
       "      <th>Open</th>\n",
       "      <th>High</th>\n",
       "      <th>Low</th>\n",
       "      <th>Close</th>\n",
       "      <th>Adj Close</th>\n",
       "      <th>Volume</th>\n",
       "    </tr>\n",
       "    <tr>\n",
       "      <th>Date</th>\n",
       "      <th></th>\n",
       "      <th></th>\n",
       "      <th></th>\n",
       "      <th></th>\n",
       "      <th></th>\n",
       "      <th></th>\n",
       "    </tr>\n",
       "  </thead>\n",
       "  <tbody>\n",
       "    <tr>\n",
       "      <th>1980-12-12</th>\n",
       "      <td>0.128348</td>\n",
       "      <td>0.128906</td>\n",
       "      <td>0.128348</td>\n",
       "      <td>0.128348</td>\n",
       "      <td>0.100600</td>\n",
       "      <td>469033600</td>\n",
       "    </tr>\n",
       "    <tr>\n",
       "      <th>1980-12-15</th>\n",
       "      <td>0.122210</td>\n",
       "      <td>0.122210</td>\n",
       "      <td>0.121652</td>\n",
       "      <td>0.121652</td>\n",
       "      <td>0.095352</td>\n",
       "      <td>175884800</td>\n",
       "    </tr>\n",
       "    <tr>\n",
       "      <th>1980-12-16</th>\n",
       "      <td>0.113281</td>\n",
       "      <td>0.113281</td>\n",
       "      <td>0.112723</td>\n",
       "      <td>0.112723</td>\n",
       "      <td>0.088353</td>\n",
       "      <td>105728000</td>\n",
       "    </tr>\n",
       "    <tr>\n",
       "      <th>1980-12-17</th>\n",
       "      <td>0.115513</td>\n",
       "      <td>0.116071</td>\n",
       "      <td>0.115513</td>\n",
       "      <td>0.115513</td>\n",
       "      <td>0.090540</td>\n",
       "      <td>86441600</td>\n",
       "    </tr>\n",
       "    <tr>\n",
       "      <th>1980-12-18</th>\n",
       "      <td>0.118862</td>\n",
       "      <td>0.119420</td>\n",
       "      <td>0.118862</td>\n",
       "      <td>0.118862</td>\n",
       "      <td>0.093165</td>\n",
       "      <td>73449600</td>\n",
       "    </tr>\n",
       "    <tr>\n",
       "      <th>...</th>\n",
       "      <td>...</td>\n",
       "      <td>...</td>\n",
       "      <td>...</td>\n",
       "      <td>...</td>\n",
       "      <td>...</td>\n",
       "      <td>...</td>\n",
       "    </tr>\n",
       "    <tr>\n",
       "      <th>2021-09-23</th>\n",
       "      <td>146.649994</td>\n",
       "      <td>147.080002</td>\n",
       "      <td>145.639999</td>\n",
       "      <td>146.830002</td>\n",
       "      <td>146.830002</td>\n",
       "      <td>64838200</td>\n",
       "    </tr>\n",
       "    <tr>\n",
       "      <th>2021-09-24</th>\n",
       "      <td>145.660004</td>\n",
       "      <td>147.470001</td>\n",
       "      <td>145.559998</td>\n",
       "      <td>146.919998</td>\n",
       "      <td>146.919998</td>\n",
       "      <td>53477900</td>\n",
       "    </tr>\n",
       "    <tr>\n",
       "      <th>2021-09-27</th>\n",
       "      <td>145.470001</td>\n",
       "      <td>145.960007</td>\n",
       "      <td>143.820007</td>\n",
       "      <td>145.369995</td>\n",
       "      <td>145.369995</td>\n",
       "      <td>74150700</td>\n",
       "    </tr>\n",
       "    <tr>\n",
       "      <th>2021-09-28</th>\n",
       "      <td>143.250000</td>\n",
       "      <td>144.750000</td>\n",
       "      <td>141.690002</td>\n",
       "      <td>141.910004</td>\n",
       "      <td>141.910004</td>\n",
       "      <td>108972300</td>\n",
       "    </tr>\n",
       "    <tr>\n",
       "      <th>2021-09-29</th>\n",
       "      <td>142.470001</td>\n",
       "      <td>144.449997</td>\n",
       "      <td>142.029999</td>\n",
       "      <td>142.830002</td>\n",
       "      <td>142.830002</td>\n",
       "      <td>74602000</td>\n",
       "    </tr>\n",
       "  </tbody>\n",
       "</table>\n",
       "<p>10287 rows × 6 columns</p>\n",
       "</div>"
      ],
      "text/plain": [
       "                  AAPL                                                  \\\n",
       "                  Open        High         Low       Close   Adj Close   \n",
       "Date                                                                     \n",
       "1980-12-12    0.128348    0.128906    0.128348    0.128348    0.100600   \n",
       "1980-12-15    0.122210    0.122210    0.121652    0.121652    0.095352   \n",
       "1980-12-16    0.113281    0.113281    0.112723    0.112723    0.088353   \n",
       "1980-12-17    0.115513    0.116071    0.115513    0.115513    0.090540   \n",
       "1980-12-18    0.118862    0.119420    0.118862    0.118862    0.093165   \n",
       "...                ...         ...         ...         ...         ...   \n",
       "2021-09-23  146.649994  147.080002  145.639999  146.830002  146.830002   \n",
       "2021-09-24  145.660004  147.470001  145.559998  146.919998  146.919998   \n",
       "2021-09-27  145.470001  145.960007  143.820007  145.369995  145.369995   \n",
       "2021-09-28  143.250000  144.750000  141.690002  141.910004  141.910004   \n",
       "2021-09-29  142.470001  144.449997  142.029999  142.830002  142.830002   \n",
       "\n",
       "                       \n",
       "               Volume  \n",
       "Date                   \n",
       "1980-12-12  469033600  \n",
       "1980-12-15  175884800  \n",
       "1980-12-16  105728000  \n",
       "1980-12-17   86441600  \n",
       "1980-12-18   73449600  \n",
       "...               ...  \n",
       "2021-09-23   64838200  \n",
       "2021-09-24   53477900  \n",
       "2021-09-27   74150700  \n",
       "2021-09-28  108972300  \n",
       "2021-09-29   74602000  \n",
       "\n",
       "[10287 rows x 6 columns]"
      ]
     },
     "execution_count": 59,
     "metadata": {},
     "output_type": "execute_result"
    }
   ],
   "source": [
    "start = pd.Timestamp(year=1900, month=9, day=1)\n",
    "end = pd.Timestamp(year=2021, month=9, day=30)\n",
    "print(start)\n",
    "data = yf.download(tickers=\"AAPL\", start=start, end=end, interval=\"1d\")\n",
    "print(data.index[-1])\n",
    "data.columns = pd.MultiIndex.from_product([[\"AAPL\"], data.columns])\n",
    "\n",
    "print(type(data))\n",
    "\n",
    "\n",
    "data"
   ]
  },
  {
   "cell_type": "code",
   "execution_count": 71,
   "id": "handled-health",
   "metadata": {},
   "outputs": [
    {
     "data": {
      "text/plain": [
       "[<matplotlib.lines.Line2D at 0x146096c9c070>]"
      ]
     },
     "execution_count": 71,
     "metadata": {},
     "output_type": "execute_result"
    },
    {
     "data": {
      "image/png": "[encoded data removed]",
      "text/plain": [
       "<Figure size 432x288 with 1 Axes>"
      ]
     },
     "metadata": {
      "needs_background": "light"
     },
     "output_type": "display_data"
    }
   ],
   "source": [
    "data = data[data.index.year > 2019]\n",
    "plt.plot(data[(\"AAPL\", \"Close\")])\n",
    "plt.plot(data[(\"AAPL\", \"Adj Close\")])"
   ]
  },
  {
   "cell_type": "code",
   "execution_count": 12,
   "id": "daily-branch",
   "metadata": {},
   "outputs": [
    {
     "name": "stdout",
     "output_type": "stream",
     "text": [
      "<__main__.Foo object at 0x14609cd84d30>\n"
     ]
    }
   ],
   "source": [
    "class Meta(type):\n",
    "    @staticmethod \n",
    "    def __call__():\n",
    "        return '__call__'\n",
    "\n",
    "\n",
    "class Foo(object):\n",
    "    __metaclass__ = Meta\n",
    "\n",
    "    @staticmethod\n",
    "    def bar():\n",
    "        return 'bar'\n",
    "\n",
    "print(Foo())\n",
    "#__call__\n"
   ]
  },
  {
   "cell_type": "code",
   "execution_count": null,
   "id": "satisfied-female",
   "metadata": {},
   "outputs": [],
   "source": []
  }
 ],
 "metadata": {
  "kernelspec": {
   "display_name": "Python 3",
   "language": "python",
   "name": "python3"
  },
  "language_info": {
   "codemirror_mode": {
    "name": "ipython",
    "version": 3
   },
   "file_extension": ".py",
   "mimetype": "text/x-python",
   "name": "python",
   "nbconvert_exporter": "python",
   "pygments_lexer": "ipython3",
   "version": "3.8.0"
  }
 },
 "nbformat": 4,
 "nbformat_minor": 5
}
