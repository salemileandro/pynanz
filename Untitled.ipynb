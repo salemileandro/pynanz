{
 "cells": [
  {
   "cell_type": "code",
   "execution_count": 7,
   "id": "a2e39e2e",
   "metadata": {},
   "outputs": [],
   "source": [
    "import pandas as pd"
   ]
  },
  {
   "cell_type": "code",
   "execution_count": 26,
   "id": "d51143c0",
   "metadata": {},
   "outputs": [
    {
     "name": "stdout",
     "output_type": "stream",
     "text": [
      "2020-01-01 00:00:00 2021-01-01 00:00:00 None\n",
      "None None None\n"
     ]
    },
    {
     "data": {
      "text/plain": [
       "True"
      ]
     },
     "execution_count": 26,
     "metadata": {},
     "output_type": "execute_result"
    }
   ],
   "source": [
    "class A:\n",
    "    def __init__(self):\n",
    "        pass\n",
    "    \n",
    "    def __getitem__(self, i):\n",
    "        print(i[0].start, i[0].stop, i[0].step)\n",
    "        print(i[1].start, i[1].stop, i[1].step)\n",
    "        return i[1]\n",
    "    \n",
    "    \n",
    "    \n",
    "a = A()\n",
    "a[pd.Timestamp(\"2020-01-01\"):pd.Timestamp(\"2021-01-01\"), :] == slice(None, None, None)"
   ]
  }
 ],
 "metadata": {
  "kernelspec": {
   "display_name": "Python 3 (ipykernel)",
   "language": "python",
   "name": "python3"
  },
  "language_info": {
   "codemirror_mode": {
    "name": "ipython",
    "version": 3
   },
   "file_extension": ".py",
   "mimetype": "text/x-python",
   "name": "python",
   "nbconvert_exporter": "python",
   "pygments_lexer": "ipython3",
   "version": "3.8.12"
  }
 },
 "nbformat": 4,
 "nbformat_minor": 5
}
